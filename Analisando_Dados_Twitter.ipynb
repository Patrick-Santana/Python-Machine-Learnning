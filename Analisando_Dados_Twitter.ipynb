{
  "nbformat": 4,
  "nbformat_minor": 0,
  "metadata": {
    "colab": {
      "name": "Analisando_Dados_Twitter",
      "provenance": [],
      "collapsed_sections": [],
      "authorship_tag": "ABX9TyP7xuXoIqe376166Zeru0lZ",
      "include_colab_link": true
    },
    "kernelspec": {
      "name": "python3",
      "display_name": "Python 3"
    }
  },
  "cells": [
    {
      "cell_type": "markdown",
      "metadata": {
        "id": "view-in-github",
        "colab_type": "text"
      },
      "source": [
        "<a href=\"https://colab.research.google.com/github/Patrick-Santana/Python-Machine-Learnning/blob/main/Analisando_Dados_Twitter.ipynb\" target=\"_parent\"><img src=\"https://colab.research.google.com/assets/colab-badge.svg\" alt=\"Open In Colab\"/></a>"
      ]
    },
    {
      "cell_type": "code",
      "metadata": {
        "id": "J6zEkejGLyRE"
      },
      "source": [
        "from datetime import datetime\n",
        "import json "
      ],
      "execution_count": 5,
      "outputs": []
    },
    {
      "cell_type": "code",
      "metadata": {
        "id": "XfFxp77IT9rb"
      },
      "source": [
        "consumer_key = \"FKHq4wq5KgS6iVlYrfXdoWIfW\"\n",
        "consumer_secret = \"5dLuOi4vJJ3Shb43glYiDl6pmockNJaYPvX4LRlABuVjTgUaHZ\""
      ],
      "execution_count": 6,
      "outputs": []
    },
    {
      "cell_type": "code",
      "metadata": {
        "id": "rs0XT1WEUUFT"
      },
      "source": [
        "access_token = \"860686164596076544-n3Axub3mTHmg77fQOrUC3TS4AVP6dkT\"\n",
        "access_token_secret = \"VC0IFflG0hVTaCCWU375na9i2IyCvdQEBj0iOJXdslDzb\""
      ],
      "execution_count": 7,
      "outputs": []
    },
    {
      "cell_type": "code",
      "metadata": {
        "id": "dm80Ub5gVgVv",
        "outputId": "ceb94416-4403-441d-fb82-48baadc254fd",
        "colab": {
          "base_uri": "https://localhost:8080/",
          "height": 309
        }
      },
      "source": [
        "pip install TwitterSearch"
      ],
      "execution_count": 8,
      "outputs": [
        {
          "output_type": "stream",
          "text": [
            "Collecting TwitterSearch\n",
            "  Downloading https://files.pythonhosted.org/packages/52/77/3731f0d25c97ef1d1e5d034563f9e8ec2445946c1633b3813c22c7f363ee/TwitterSearch-1.0.2.tar.gz\n",
            "Requirement already satisfied: requests>=1.0.0 in /usr/local/lib/python3.6/dist-packages (from TwitterSearch) (2.23.0)\n",
            "Requirement already satisfied: requests-oauthlib>=0.3.0 in /usr/local/lib/python3.6/dist-packages (from TwitterSearch) (1.3.0)\n",
            "Requirement already satisfied: urllib3!=1.25.0,!=1.25.1,<1.26,>=1.21.1 in /usr/local/lib/python3.6/dist-packages (from requests>=1.0.0->TwitterSearch) (1.24.3)\n",
            "Requirement already satisfied: chardet<4,>=3.0.2 in /usr/local/lib/python3.6/dist-packages (from requests>=1.0.0->TwitterSearch) (3.0.4)\n",
            "Requirement already satisfied: certifi>=2017.4.17 in /usr/local/lib/python3.6/dist-packages (from requests>=1.0.0->TwitterSearch) (2020.6.20)\n",
            "Requirement already satisfied: idna<3,>=2.5 in /usr/local/lib/python3.6/dist-packages (from requests>=1.0.0->TwitterSearch) (2.10)\n",
            "Requirement already satisfied: oauthlib>=3.0.0 in /usr/local/lib/python3.6/dist-packages (from requests-oauthlib>=0.3.0->TwitterSearch) (3.1.0)\n",
            "Building wheels for collected packages: TwitterSearch\n",
            "  Building wheel for TwitterSearch (setup.py) ... \u001b[?25l\u001b[?25hdone\n",
            "  Created wheel for TwitterSearch: filename=TwitterSearch-1.0.2-cp36-none-any.whl size=18437 sha256=3d75d40942bd1dc20b2c3eeb2cc8a96af056b0b520e6f9da47452de6cfa9cf90\n",
            "  Stored in directory: /root/.cache/pip/wheels/4e/98/87/016442cb92cf56a0e262e7d68ad00b3701928e247d04955fdb\n",
            "Successfully built TwitterSearch\n",
            "Installing collected packages: TwitterSearch\n",
            "Successfully installed TwitterSearch-1.0.2\n"
          ],
          "name": "stdout"
        }
      ]
    },
    {
      "cell_type": "code",
      "metadata": {
        "id": "z4HFCdU6amjC"
      },
      "source": [
        "#Mediante a instalação do pip install TwitterSearch, Criar objeto Ts\n",
        "\n",
        "from TwitterSearch import *\n",
        "\n",
        "try:\n",
        "\n",
        "  ts = TwitterSearch( #criar o objeto TwitterSearch Para O meu padrão de dados. \n",
        "      consumer_key = consumer_key,\n",
        "      consumer_secret = consumer_secret,\n",
        "      access_token = access_token,\n",
        "      access_token_secret = access_token_secret \n",
        "\n",
        "  )\n",
        "\n",
        "  tso = TwitterSearchOrder()\n",
        "  tso.set_keywords(['ciencia de Dados', 'machine learnning'], or_operator = True)\n",
        "  tso.set_language('pt')\n",
        "\n",
        "  for tweet in ts.search_tweets_iterable(tso):\n",
        "\n",
        "    print('created_at: ',tweet['created_at'], 'User_id: ',tweet['id_str'], 'Tweet ',tweet['text'])\n",
        "\n",
        "    created_at = tweet['created_at']\n",
        "    user_id = tweet['id_str']\n",
        "    texto = tweet['text']\n",
        "\n",
        "    with open(\"tweet.json\", \"a+\") as output:\n",
        "\n",
        "      data = {\n",
        "          \"created_at\": created_at,\n",
        "          \"User_id\": user_id,\n",
        "          \"tweet\": texto\n",
        "      }\n",
        "\n",
        "      output.write(\"{}\\n\".format(json.dumps(data)))\n",
        "\n",
        "except TwitterSearchException as e:\n",
        "  print(e)"
      ],
      "execution_count": null,
      "outputs": []
    },
    {
      "cell_type": "code",
      "metadata": {
        "id": "aSV8x-Xe9bk1",
        "outputId": "8c0b15a0-f17c-449d-942b-ca256def3ad6",
        "colab": {
          "base_uri": "https://localhost:8080/",
          "height": 421
        }
      },
      "source": [
        "import pandas as pd\n",
        "pb = pd.read_json('tweet.json',  lines = True)\n",
        "pb.head(12)  "
      ],
      "execution_count": 91,
      "outputs": [
        {
          "output_type": "execute_result",
          "data": {
            "text/html": [
              "<div>\n",
              "<style scoped>\n",
              "    .dataframe tbody tr th:only-of-type {\n",
              "        vertical-align: middle;\n",
              "    }\n",
              "\n",
              "    .dataframe tbody tr th {\n",
              "        vertical-align: top;\n",
              "    }\n",
              "\n",
              "    .dataframe thead th {\n",
              "        text-align: right;\n",
              "    }\n",
              "</style>\n",
              "<table border=\"1\" class=\"dataframe\">\n",
              "  <thead>\n",
              "    <tr style=\"text-align: right;\">\n",
              "      <th></th>\n",
              "      <th>created_at</th>\n",
              "      <th>User_id</th>\n",
              "      <th>tweet</th>\n",
              "    </tr>\n",
              "  </thead>\n",
              "  <tbody>\n",
              "    <tr>\n",
              "      <th>0</th>\n",
              "      <td>2020-10-10 19:50:58+00:00</td>\n",
              "      <td>1315016995390226432</td>\n",
              "      <td>o próximo modulo é estatística para ciência de...</td>\n",
              "    </tr>\n",
              "    <tr>\n",
              "      <th>1</th>\n",
              "      <td>2020-10-10 17:03:11+00:00</td>\n",
              "      <td>1314974771545862144</td>\n",
              "      <td>@ancapball_br Não é o que se vê na prática. Py...</td>\n",
              "    </tr>\n",
              "    <tr>\n",
              "      <th>2</th>\n",
              "      <td>2020-10-10 15:07:41+00:00</td>\n",
              "      <td>1314945704947838976</td>\n",
              "      <td>@fcrespot @teofb Pior é que tem. Tem muita gen...</td>\n",
              "    </tr>\n",
              "    <tr>\n",
              "      <th>3</th>\n",
              "      <td>2020-10-10 15:05:33+00:00</td>\n",
              "      <td>1314945170748604416</td>\n",
              "      <td>Fala ByLerner, beleza?\\n\\nZarcky na área! 🤘\\n\\...</td>\n",
              "    </tr>\n",
              "    <tr>\n",
              "      <th>4</th>\n",
              "      <td>2020-10-10 00:26:42+00:00</td>\n",
              "      <td>1314723999830732800</td>\n",
              "      <td>@iv12345n eu não sei o quanto vc está disposto...</td>\n",
              "    </tr>\n",
              "    <tr>\n",
              "      <th>5</th>\n",
              "      <td>2020-10-09 23:14:43+00:00</td>\n",
              "      <td>1314705885164437504</td>\n",
              "      <td>RT @imsouza_: Vi um comentário em um blog que ...</td>\n",
              "    </tr>\n",
              "    <tr>\n",
              "      <th>6</th>\n",
              "      <td>2020-10-09 23:14:38+00:00</td>\n",
              "      <td>1314705863194685440</td>\n",
              "      <td>Vi um comentário em um blog que me chamou muit...</td>\n",
              "    </tr>\n",
              "    <tr>\n",
              "      <th>7</th>\n",
              "      <td>2020-10-09 23:06:28+00:00</td>\n",
              "      <td>1314703806832291840</td>\n",
              "      <td>...design gráfico, programação e ciência de da...</td>\n",
              "    </tr>\n",
              "    <tr>\n",
              "      <th>8</th>\n",
              "      <td>2020-10-09 22:35:57+00:00</td>\n",
              "      <td>1314696129364320256</td>\n",
              "      <td>Para você que acompanha o nosso curso de Ciênc...</td>\n",
              "    </tr>\n",
              "    <tr>\n",
              "      <th>9</th>\n",
              "      <td>2020-10-09 22:00:47+00:00</td>\n",
              "      <td>1314687279882014720</td>\n",
              "      <td>Vivemos na era dos dados e dos avanços tecnoló...</td>\n",
              "    </tr>\n",
              "    <tr>\n",
              "      <th>10</th>\n",
              "      <td>2020-10-09 21:26:02+00:00</td>\n",
              "      <td>1314678533587898368</td>\n",
              "      <td>PUCRS lança iniciativa inédita em Ciência de D...</td>\n",
              "    </tr>\n",
              "    <tr>\n",
              "      <th>11</th>\n",
              "      <td>2020-10-09 18:33:32+00:00</td>\n",
              "      <td>1314635120502951936</td>\n",
              "      <td>Tecnologia: Começa hoje (9/10) a maratona CNJ ...</td>\n",
              "    </tr>\n",
              "  </tbody>\n",
              "</table>\n",
              "</div>"
            ],
            "text/plain": [
              "                  created_at  ...                                              tweet\n",
              "0  2020-10-10 19:50:58+00:00  ...  o próximo modulo é estatística para ciência de...\n",
              "1  2020-10-10 17:03:11+00:00  ...  @ancapball_br Não é o que se vê na prática. Py...\n",
              "2  2020-10-10 15:07:41+00:00  ...  @fcrespot @teofb Pior é que tem. Tem muita gen...\n",
              "3  2020-10-10 15:05:33+00:00  ...  Fala ByLerner, beleza?\\n\\nZarcky na área! 🤘\\n\\...\n",
              "4  2020-10-10 00:26:42+00:00  ...  @iv12345n eu não sei o quanto vc está disposto...\n",
              "5  2020-10-09 23:14:43+00:00  ...  RT @imsouza_: Vi um comentário em um blog que ...\n",
              "6  2020-10-09 23:14:38+00:00  ...  Vi um comentário em um blog que me chamou muit...\n",
              "7  2020-10-09 23:06:28+00:00  ...  ...design gráfico, programação e ciência de da...\n",
              "8  2020-10-09 22:35:57+00:00  ...  Para você que acompanha o nosso curso de Ciênc...\n",
              "9  2020-10-09 22:00:47+00:00  ...  Vivemos na era dos dados e dos avanços tecnoló...\n",
              "10 2020-10-09 21:26:02+00:00  ...  PUCRS lança iniciativa inédita em Ciência de D...\n",
              "11 2020-10-09 18:33:32+00:00  ...  Tecnologia: Começa hoje (9/10) a maratona CNJ ...\n",
              "\n",
              "[12 rows x 3 columns]"
            ]
          },
          "metadata": {
            "tags": []
          },
          "execution_count": 91
        }
      ]
    },
    {
      "cell_type": "code",
      "metadata": {
        "id": "ayfEITs0zv4k",
        "outputId": "69a7fe1b-45e1-4d57-8c9a-a8e3f13aba08",
        "colab": {
          "base_uri": "https://localhost:8080/",
          "height": 34
        }
      },
      "source": [
        "pb.shape"
      ],
      "execution_count": 92,
      "outputs": [
        {
          "output_type": "execute_result",
          "data": {
            "text/plain": [
              "(1347, 3)"
            ]
          },
          "metadata": {
            "tags": []
          },
          "execution_count": 92
        }
      ]
    },
    {
      "cell_type": "markdown",
      "metadata": {
        "id": "jIx3k6z1Ajcq"
      },
      "source": [
        "\n",
        "\n",
        "*   Uma Prática Muito comum no tt é o uso de Retweet\n",
        "*   Devemos limpar os Valores Duplicados\n",
        "\n"
      ]
    },
    {
      "cell_type": "code",
      "metadata": {
        "id": "jOw7XYsHA5gb"
      },
      "source": [
        "pb.drop_duplicates(['tweet'], inplace=True)"
      ],
      "execution_count": 96,
      "outputs": []
    },
    {
      "cell_type": "code",
      "metadata": {
        "id": "8PUqAG1gBK9P",
        "outputId": "fa9c040b-8587-4c9e-f151-1d6811f7e5df",
        "colab": {
          "base_uri": "https://localhost:8080/",
          "height": 34
        }
      },
      "source": [
        "pb.shape"
      ],
      "execution_count": 98,
      "outputs": [
        {
          "output_type": "execute_result",
          "data": {
            "text/plain": [
              "(180, 3)"
            ]
          },
          "metadata": {
            "tags": []
          },
          "execution_count": 98
        }
      ]
    },
    {
      "cell_type": "markdown",
      "metadata": {
        "id": "1tdgiHSsy274"
      },
      "source": [
        "#  NLTK (Natural Language Toolkit)\n",
        "È uma biblioteca que contém pacotes para que a máquina, compreenda a linguagem Humana."
      ]
    },
    {
      "cell_type": "code",
      "metadata": {
        "id": "sBV-5RIk0bDk",
        "outputId": "abf774e5-e3a4-4ae9-a584-0c0435a6628e",
        "colab": {
          "base_uri": "https://localhost:8080/",
          "height": 51
        }
      },
      "source": [
        "pip install nltk\n"
      ],
      "execution_count": 99,
      "outputs": [
        {
          "output_type": "stream",
          "text": [
            "Requirement already satisfied: nltk in /usr/local/lib/python3.6/dist-packages (3.2.5)\n",
            "Requirement already satisfied: six in /usr/local/lib/python3.6/dist-packages (from nltk) (1.15.0)\n"
          ],
          "name": "stdout"
        }
      ]
    },
    {
      "cell_type": "code",
      "metadata": {
        "id": "2PZLH6Sd67ho",
        "outputId": "16380cdd-ad1c-4a86-c26c-30d8bbed7147",
        "colab": {
          "base_uri": "https://localhost:8080/",
          "height": 68
        }
      },
      "source": [
        "import nltk\n",
        "nltk.download('stopwords')"
      ],
      "execution_count": 100,
      "outputs": [
        {
          "output_type": "stream",
          "text": [
            "[nltk_data] Downloading package stopwords to /root/nltk_data...\n",
            "[nltk_data]   Package stopwords is already up-to-date!\n"
          ],
          "name": "stdout"
        },
        {
          "output_type": "execute_result",
          "data": {
            "text/plain": [
              "True"
            ]
          },
          "metadata": {
            "tags": []
          },
          "execution_count": 100
        }
      ]
    },
    {
      "cell_type": "markdown",
      "metadata": {
        "id": "O4r74VTp8YGp"
      },
      "source": [
        "# Stopwords \n",
        "\n",
        "\n",
        "1.   São palavras ou termos de uso frequente que não possuem relevância nas setenças.\n",
        "\n",
        "*   Exemplos: A, de, do, para , etc . \n",
        "\n",
        "\n",
        "\n",
        "\n"
      ]
    },
    {
      "cell_type": "code",
      "metadata": {
        "id": "4OwVuwPZ-W5b"
      },
      "source": [
        "def RemoveStopWords(instancia):\n",
        "  stopwords = set(nltk.corpus.stopwords('portuguese'))\n",
        "  palavras = [i for i in instancia.split() if not i in stopwords]\n",
        "\n",
        "  return (\" \".join(palavras))"
      ],
      "execution_count": 101,
      "outputs": []
    },
    {
      "cell_type": "markdown",
      "metadata": {
        "id": "pQI_4zR4K_Ik"
      },
      "source": [
        "# Stemming\n",
        "\n",
        "> técnica Utilizada para converter palavras em seu radical.\n",
        "\n",
        "*   Ex: ilegal -> ileg.\n",
        "\n",
        "\n",
        "\n"
      ]
    },
    {
      "cell_type": "code",
      "metadata": {
        "id": "BUZuB76ENMyn"
      },
      "source": [
        "def Stemming(instancia):\n",
        "  stemmer = nltk.stem.RSLPStemmer()\n",
        "  palavras = []\n",
        "\n",
        "  for w in instancia.split():\n",
        "    palavras.append(stemmer.stem(w))\n",
        "  return (\" \".join(palavras))"
      ],
      "execution_count": 103,
      "outputs": []
    },
    {
      "cell_type": "markdown",
      "metadata": {
        "id": "DwBfG7YpQc4b"
      },
      "source": [
        "# Remoção de Caracteres Indesejados \n",
        "\n",
        "1.   Remoção de Links\n",
        "2.   Remoção de Pontuação\n",
        "\n",
        "\n",
        "\n"
      ]
    },
    {
      "cell_type": "code",
      "metadata": {
        "id": "QdhOjqFdQ-Wa"
      },
      "source": [
        "import re"
      ],
      "execution_count": 104,
      "outputs": []
    },
    {
      "cell_type": "code",
      "metadata": {
        "id": "0z4jQhTQRdli"
      },
      "source": [
        "def Limpeza_dados(instancia):\n",
        "  instancia = re.sub(r\"http\\S+\", \"\", instancia).lower().replace('.', '').replace(';', '').replace('-', '').replace(':', '').replace(')', '')\n",
        "  return (instancia)"
      ],
      "execution_count": 105,
      "outputs": []
    },
    {
      "cell_type": "code",
      "metadata": {
        "id": "PISiDEjvRdt6"
      },
      "source": [
        "from bs4 import BeautifulSoup\n",
        "def tweet_to_words(tweet):\n",
        "  tweet = BeautifulSoup(tweet, \"html.parser\").get_text()\n",
        "  tweet = re.sub(r\"[^a-zA-zà-úÀ-Ú0-9]\", \"\", tweet.lower())\n",
        "  tweet = tweet_tokenizer.tokenize(tweet)\n",
        "\n",
        "  return words"
      ],
      "execution_count": 106,
      "outputs": []
    },
    {
      "cell_type": "markdown",
      "metadata": {
        "id": "Y5TQNMbuvrHu"
      },
      "source": [
        "# Lemmatization\n",
        "\n",
        "\n",
        "\n",
        "*   Reduzir as Palavras Flexionadas adequadamente, garatindo que a palavra raiz pertença ao idioma de origem.\n",
        "\n",
        "\n"
      ]
    },
    {
      "cell_type": "code",
      "metadata": {
        "id": "Um5FFXZ1yqcT"
      },
      "source": [
        "from nltk.stem import WordNetLemmatizer\n",
        "\n",
        "wordnet_lemmatizer = WordNetLemmatizer()\n",
        "\n",
        "def Lemmatization(instancia):\n",
        "  palavras = []\n",
        "  \n",
        "  for w in  instancia.split():\n",
        "    palabras.append(wordnet_lemmatizer.lemmatize(w))\n",
        "  return (\"\".join(palavras))\n"
      ],
      "execution_count": 107,
      "outputs": []
    },
    {
      "cell_type": "markdown",
      "metadata": {
        "id": "SWGSxTHk796b"
      },
      "source": [
        "\n",
        "# Tokenização do Nosso Dataframe\n",
        "\n",
        "\n"
      ]
    },
    {
      "cell_type": "code",
      "metadata": {
        "id": "qyUiP7Va63C3",
        "outputId": "ca5b351d-3fe1-44fe-be5c-37927cd703b2",
        "colab": {
          "base_uri": "https://localhost:8080/",
          "height": 142
        }
      },
      "source": [
        "pb.head(3)"
      ],
      "execution_count": 108,
      "outputs": [
        {
          "output_type": "execute_result",
          "data": {
            "text/html": [
              "<div>\n",
              "<style scoped>\n",
              "    .dataframe tbody tr th:only-of-type {\n",
              "        vertical-align: middle;\n",
              "    }\n",
              "\n",
              "    .dataframe tbody tr th {\n",
              "        vertical-align: top;\n",
              "    }\n",
              "\n",
              "    .dataframe thead th {\n",
              "        text-align: right;\n",
              "    }\n",
              "</style>\n",
              "<table border=\"1\" class=\"dataframe\">\n",
              "  <thead>\n",
              "    <tr style=\"text-align: right;\">\n",
              "      <th></th>\n",
              "      <th>created_at</th>\n",
              "      <th>User_id</th>\n",
              "      <th>tweet</th>\n",
              "    </tr>\n",
              "  </thead>\n",
              "  <tbody>\n",
              "    <tr>\n",
              "      <th>0</th>\n",
              "      <td>2020-10-10 19:50:58+00:00</td>\n",
              "      <td>1315016995390226432</td>\n",
              "      <td>o próximo modulo é estatística para ciência de...</td>\n",
              "    </tr>\n",
              "    <tr>\n",
              "      <th>1</th>\n",
              "      <td>2020-10-10 17:03:11+00:00</td>\n",
              "      <td>1314974771545862144</td>\n",
              "      <td>@ancapball_br Não é o que se vê na prática. Py...</td>\n",
              "    </tr>\n",
              "    <tr>\n",
              "      <th>2</th>\n",
              "      <td>2020-10-10 15:07:41+00:00</td>\n",
              "      <td>1314945704947838976</td>\n",
              "      <td>@fcrespot @teofb Pior é que tem. Tem muita gen...</td>\n",
              "    </tr>\n",
              "  </tbody>\n",
              "</table>\n",
              "</div>"
            ],
            "text/plain": [
              "                 created_at  ...                                              tweet\n",
              "0 2020-10-10 19:50:58+00:00  ...  o próximo modulo é estatística para ciência de...\n",
              "1 2020-10-10 17:03:11+00:00  ...  @ancapball_br Não é o que se vê na prática. Py...\n",
              "2 2020-10-10 15:07:41+00:00  ...  @fcrespot @teofb Pior é que tem. Tem muita gen...\n",
              "\n",
              "[3 rows x 3 columns]"
            ]
          },
          "metadata": {
            "tags": []
          },
          "execution_count": 108
        }
      ]
    },
    {
      "cell_type": "code",
      "metadata": {
        "id": "vYfk9rAG9EYK"
      },
      "source": [
        "tweets_tokenized = [tweet_tokenizer.tokenize(tweet) for tweet in pb.tweet]"
      ],
      "execution_count": 110,
      "outputs": []
    },
    {
      "cell_type": "code",
      "metadata": {
        "id": "P5BDsOaQ9GDC",
        "outputId": "3f5e0d89-913e-4b5f-abd0-e8373608efe5",
        "colab": {
          "base_uri": "https://localhost:8080/",
          "height": 1000
        }
      },
      "source": [
        "tweets_tokenized[:3]"
      ],
      "execution_count": 134,
      "outputs": [
        {
          "output_type": "execute_result",
          "data": {
            "text/plain": [
              "[['o',\n",
              "  'próximo',\n",
              "  'modulo',\n",
              "  'é',\n",
              "  'estatística',\n",
              "  'para',\n",
              "  'ciência',\n",
              "  'de',\n",
              "  'dados',\n",
              "  'aaaaaaaaaaaaaa',\n",
              "  'n',\n",
              "  'sei',\n",
              "  'o',\n",
              "  'que',\n",
              "  'esperar'],\n",
              " ['@ancapball_br',\n",
              "  'Não',\n",
              "  'é',\n",
              "  'o',\n",
              "  'que',\n",
              "  'se',\n",
              "  'vê',\n",
              "  'na',\n",
              "  'prática',\n",
              "  '.',\n",
              "  'Python',\n",
              "  'é',\n",
              "  'muito',\n",
              "  'forte',\n",
              "  'em',\n",
              "  'ciência',\n",
              "  'de',\n",
              "  'dados',\n",
              "  'e',\n",
              "  'tal',\n",
              "  ',',\n",
              "  'mas',\n",
              "  'pra',\n",
              "  'Web',\n",
              "  'não',\n",
              "  '.'],\n",
              " ['@fcrespot',\n",
              "  '@teofb',\n",
              "  'Pior',\n",
              "  'é',\n",
              "  'que',\n",
              "  'tem',\n",
              "  '.',\n",
              "  'Tem',\n",
              "  'muita',\n",
              "  'gente',\n",
              "  'que',\n",
              "  'vive',\n",
              "  'aperfeiçoando',\n",
              "  'modelos',\n",
              "  'estatísticos',\n",
              "  'em',\n",
              "  'relação',\n",
              "  'a',\n",
              "  'isso',\n",
              "  ',',\n",
              "  'ain',\n",
              "  '…',\n",
              "  'https://t.co/fqExGMX80Z']]"
            ]
          },
          "metadata": {
            "tags": []
          },
          "execution_count": 134
        }
      ]
    },
    {
      "cell_type": "code",
      "metadata": {
        "id": "WQgdvirRIvd9"
      },
      "source": [
        "def Preprocessing(instancia):\n",
        "  instancia = re.sub(r\"http\\S+\", \"\", instancia).lower().replace('.', '').replace(';', '').replace('-', '').replace(':', '').replace(')', '')\n",
        "  stopwords = set(nltk.corpus.stopwords.words('portuguese'))\n",
        "  palavras = [i for i in instancia.split() if not i in stopwords]\n",
        "\n",
        "  return (\" \".join(palavras))\n"
      ],
      "execution_count": 112,
      "outputs": []
    },
    {
      "cell_type": "code",
      "metadata": {
        "id": "aEDHah2lKqLG"
      },
      "source": [
        "#Aplicar a Função em todos os dados\n",
        "\n",
        "tweets = [Preprocessing(i) for i in pb.tweet]"
      ],
      "execution_count": 113,
      "outputs": []
    },
    {
      "cell_type": "code",
      "metadata": {
        "id": "9DNOvSDOK7rg",
        "outputId": "04b2b4ee-bfcd-4d9d-e8b2-2fc4654419e3",
        "colab": {
          "base_uri": "https://localhost:8080/",
          "height": 187
        }
      },
      "source": [
        "tweets[:10]"
      ],
      "execution_count": 114,
      "outputs": [
        {
          "output_type": "execute_result",
          "data": {
            "text/plain": [
              "['próximo modulo estatística ciência dados aaaaaaaaaaaaaa n sei esperar',\n",
              " '@ancapball_br vê prática python forte ciência dados tal, pra web',\n",
              " '@fcrespot @teofb pior muita gente vive aperfeiçoando modelos estatísticos relação isso, ain…',\n",
              " 'fala bylerner, beleza? zarcky área! 🤘 trouxe vídeoaula super legal python ciência dados anac…',\n",
              " '@iv12345n sei quanto vc disposto vender sistema, acho vc área co…',\n",
              " 'rt @imsouza_ vi comentário blog chamou muita atenção gostaria compartilhar aqui sobre importância dá álgebra lin…',\n",
              " 'vi comentário blog chamou muita atenção gostaria compartilhar aqui sobre importância dá á…',\n",
              " 'design gráfico, programação ciência dados edição audiovisual nesse link, esclarecemos alguns detalhes…',\n",
              " 'acompanha curso ciência dados, acaba sair módulo “numpy, pandas préprocessament…',\n",
              " 'vivemos dados avanços tecnológicos conheça frentes atuação ciência dados inteli…']"
            ]
          },
          "metadata": {
            "tags": []
          },
          "execution_count": 114
        }
      ]
    },
    {
      "cell_type": "code",
      "metadata": {
        "id": "_s2oRJ1CigSl",
        "outputId": "20d741c6-d7ba-445b-eaa3-339b5a88b095",
        "colab": {
          "base_uri": "https://localhost:8080/",
          "height": 204
        }
      },
      "source": [
        "pb['prepocessed'] = tweets\n",
        "pb.head()"
      ],
      "execution_count": 115,
      "outputs": [
        {
          "output_type": "execute_result",
          "data": {
            "text/html": [
              "<div>\n",
              "<style scoped>\n",
              "    .dataframe tbody tr th:only-of-type {\n",
              "        vertical-align: middle;\n",
              "    }\n",
              "\n",
              "    .dataframe tbody tr th {\n",
              "        vertical-align: top;\n",
              "    }\n",
              "\n",
              "    .dataframe thead th {\n",
              "        text-align: right;\n",
              "    }\n",
              "</style>\n",
              "<table border=\"1\" class=\"dataframe\">\n",
              "  <thead>\n",
              "    <tr style=\"text-align: right;\">\n",
              "      <th></th>\n",
              "      <th>created_at</th>\n",
              "      <th>User_id</th>\n",
              "      <th>tweet</th>\n",
              "      <th>prepocessed</th>\n",
              "    </tr>\n",
              "  </thead>\n",
              "  <tbody>\n",
              "    <tr>\n",
              "      <th>0</th>\n",
              "      <td>2020-10-10 19:50:58+00:00</td>\n",
              "      <td>1315016995390226432</td>\n",
              "      <td>o próximo modulo é estatística para ciência de...</td>\n",
              "      <td>próximo modulo estatística ciência dados aaaaa...</td>\n",
              "    </tr>\n",
              "    <tr>\n",
              "      <th>1</th>\n",
              "      <td>2020-10-10 17:03:11+00:00</td>\n",
              "      <td>1314974771545862144</td>\n",
              "      <td>@ancapball_br Não é o que se vê na prática. Py...</td>\n",
              "      <td>@ancapball_br vê prática python forte ciência ...</td>\n",
              "    </tr>\n",
              "    <tr>\n",
              "      <th>2</th>\n",
              "      <td>2020-10-10 15:07:41+00:00</td>\n",
              "      <td>1314945704947838976</td>\n",
              "      <td>@fcrespot @teofb Pior é que tem. Tem muita gen...</td>\n",
              "      <td>@fcrespot @teofb pior muita gente vive aperfei...</td>\n",
              "    </tr>\n",
              "    <tr>\n",
              "      <th>3</th>\n",
              "      <td>2020-10-10 15:05:33+00:00</td>\n",
              "      <td>1314945170748604416</td>\n",
              "      <td>Fala ByLerner, beleza?\\n\\nZarcky na área! 🤘\\n\\...</td>\n",
              "      <td>fala bylerner, beleza? zarcky área! 🤘 trouxe v...</td>\n",
              "    </tr>\n",
              "    <tr>\n",
              "      <th>4</th>\n",
              "      <td>2020-10-10 00:26:42+00:00</td>\n",
              "      <td>1314723999830732800</td>\n",
              "      <td>@iv12345n eu não sei o quanto vc está disposto...</td>\n",
              "      <td>@iv12345n sei quanto vc disposto vender sistem...</td>\n",
              "    </tr>\n",
              "  </tbody>\n",
              "</table>\n",
              "</div>"
            ],
            "text/plain": [
              "                 created_at  ...                                        prepocessed\n",
              "0 2020-10-10 19:50:58+00:00  ...  próximo modulo estatística ciência dados aaaaa...\n",
              "1 2020-10-10 17:03:11+00:00  ...  @ancapball_br vê prática python forte ciência ...\n",
              "2 2020-10-10 15:07:41+00:00  ...  @fcrespot @teofb pior muita gente vive aperfei...\n",
              "3 2020-10-10 15:05:33+00:00  ...  fala bylerner, beleza? zarcky área! 🤘 trouxe v...\n",
              "4 2020-10-10 00:26:42+00:00  ...  @iv12345n sei quanto vc disposto vender sistem...\n",
              "\n",
              "[5 rows x 4 columns]"
            ]
          },
          "metadata": {
            "tags": []
          },
          "execution_count": 115
        }
      ]
    },
    {
      "cell_type": "markdown",
      "metadata": {
        "id": "bAXXJ6A-TebQ"
      },
      "source": [
        "# **Remover Caracteres indesejados com re e BeautifulSoup**"
      ]
    },
    {
      "cell_type": "code",
      "metadata": {
        "id": "tTVXU3E_fH0S"
      },
      "source": [
        "from bs4 import BeautifulSoup \n",
        "def prep_tweets(tweet):\n",
        "  tweet = BeautifulSoup(tweet, \"html.parser\").get_text()\n",
        "  tweet = re.sub(r\"[^a-zA-zà-úÀ-Ú0-9]\", \" \", tweet.lower())\n",
        "  return tweet\n"
      ],
      "execution_count": 120,
      "outputs": []
    },
    {
      "cell_type": "code",
      "metadata": {
        "id": "Xxcmtli4hyHH",
        "outputId": "6bd8b0f2-7a0c-4e39-862d-7a6ec5b8a8c1",
        "colab": {
          "base_uri": "https://localhost:8080/",
          "height": 204
        }
      },
      "source": [
        "pb.head()"
      ],
      "execution_count": 121,
      "outputs": [
        {
          "output_type": "execute_result",
          "data": {
            "text/html": [
              "<div>\n",
              "<style scoped>\n",
              "    .dataframe tbody tr th:only-of-type {\n",
              "        vertical-align: middle;\n",
              "    }\n",
              "\n",
              "    .dataframe tbody tr th {\n",
              "        vertical-align: top;\n",
              "    }\n",
              "\n",
              "    .dataframe thead th {\n",
              "        text-align: right;\n",
              "    }\n",
              "</style>\n",
              "<table border=\"1\" class=\"dataframe\">\n",
              "  <thead>\n",
              "    <tr style=\"text-align: right;\">\n",
              "      <th></th>\n",
              "      <th>created_at</th>\n",
              "      <th>User_id</th>\n",
              "      <th>tweet</th>\n",
              "      <th>prepocessed</th>\n",
              "    </tr>\n",
              "  </thead>\n",
              "  <tbody>\n",
              "    <tr>\n",
              "      <th>0</th>\n",
              "      <td>2020-10-10 19:50:58+00:00</td>\n",
              "      <td>1315016995390226432</td>\n",
              "      <td>o próximo modulo é estatística para ciência de...</td>\n",
              "      <td>próximo modulo estatística ciência dados aaaaa...</td>\n",
              "    </tr>\n",
              "    <tr>\n",
              "      <th>1</th>\n",
              "      <td>2020-10-10 17:03:11+00:00</td>\n",
              "      <td>1314974771545862144</td>\n",
              "      <td>@ancapball_br Não é o que se vê na prática. Py...</td>\n",
              "      <td>@ancapball_br vê prática python forte ciência ...</td>\n",
              "    </tr>\n",
              "    <tr>\n",
              "      <th>2</th>\n",
              "      <td>2020-10-10 15:07:41+00:00</td>\n",
              "      <td>1314945704947838976</td>\n",
              "      <td>@fcrespot @teofb Pior é que tem. Tem muita gen...</td>\n",
              "      <td>@fcrespot @teofb pior muita gente vive aperfei...</td>\n",
              "    </tr>\n",
              "    <tr>\n",
              "      <th>3</th>\n",
              "      <td>2020-10-10 15:05:33+00:00</td>\n",
              "      <td>1314945170748604416</td>\n",
              "      <td>Fala ByLerner, beleza?\\n\\nZarcky na área! 🤘\\n\\...</td>\n",
              "      <td>fala bylerner, beleza? zarcky área! 🤘 trouxe v...</td>\n",
              "    </tr>\n",
              "    <tr>\n",
              "      <th>4</th>\n",
              "      <td>2020-10-10 00:26:42+00:00</td>\n",
              "      <td>1314723999830732800</td>\n",
              "      <td>@iv12345n eu não sei o quanto vc está disposto...</td>\n",
              "      <td>@iv12345n sei quanto vc disposto vender sistem...</td>\n",
              "    </tr>\n",
              "  </tbody>\n",
              "</table>\n",
              "</div>"
            ],
            "text/plain": [
              "                 created_at  ...                                        prepocessed\n",
              "0 2020-10-10 19:50:58+00:00  ...  próximo modulo estatística ciência dados aaaaa...\n",
              "1 2020-10-10 17:03:11+00:00  ...  @ancapball_br vê prática python forte ciência ...\n",
              "2 2020-10-10 15:07:41+00:00  ...  @fcrespot @teofb pior muita gente vive aperfei...\n",
              "3 2020-10-10 15:05:33+00:00  ...  fala bylerner, beleza? zarcky área! 🤘 trouxe v...\n",
              "4 2020-10-10 00:26:42+00:00  ...  @iv12345n sei quanto vc disposto vender sistem...\n",
              "\n",
              "[5 rows x 4 columns]"
            ]
          },
          "metadata": {
            "tags": []
          },
          "execution_count": 121
        }
      ]
    },
    {
      "cell_type": "code",
      "metadata": {
        "id": "tYKb65Za3cxD",
        "outputId": "6300d426-e79f-4983-c9d4-e5abdfa792b5",
        "colab": {
          "base_uri": "https://localhost:8080/",
          "height": 289
        }
      },
      "source": [
        "pb['cleaned_tweets'] = [prep_tweets(tweet) for tweet in pb.prepocessed]\n",
        "pb.head()"
      ],
      "execution_count": 122,
      "outputs": [
        {
          "output_type": "execute_result",
          "data": {
            "text/html": [
              "<div>\n",
              "<style scoped>\n",
              "    .dataframe tbody tr th:only-of-type {\n",
              "        vertical-align: middle;\n",
              "    }\n",
              "\n",
              "    .dataframe tbody tr th {\n",
              "        vertical-align: top;\n",
              "    }\n",
              "\n",
              "    .dataframe thead th {\n",
              "        text-align: right;\n",
              "    }\n",
              "</style>\n",
              "<table border=\"1\" class=\"dataframe\">\n",
              "  <thead>\n",
              "    <tr style=\"text-align: right;\">\n",
              "      <th></th>\n",
              "      <th>created_at</th>\n",
              "      <th>User_id</th>\n",
              "      <th>tweet</th>\n",
              "      <th>prepocessed</th>\n",
              "      <th>cleaned_tweets</th>\n",
              "    </tr>\n",
              "  </thead>\n",
              "  <tbody>\n",
              "    <tr>\n",
              "      <th>0</th>\n",
              "      <td>2020-10-10 19:50:58+00:00</td>\n",
              "      <td>1315016995390226432</td>\n",
              "      <td>o próximo modulo é estatística para ciência de...</td>\n",
              "      <td>próximo modulo estatística ciência dados aaaaa...</td>\n",
              "      <td>próximo modulo estatística ciência dados aaaaa...</td>\n",
              "    </tr>\n",
              "    <tr>\n",
              "      <th>1</th>\n",
              "      <td>2020-10-10 17:03:11+00:00</td>\n",
              "      <td>1314974771545862144</td>\n",
              "      <td>@ancapball_br Não é o que se vê na prática. Py...</td>\n",
              "      <td>@ancapball_br vê prática python forte ciência ...</td>\n",
              "      <td>ancapball_br vê prática python forte ciência ...</td>\n",
              "    </tr>\n",
              "    <tr>\n",
              "      <th>2</th>\n",
              "      <td>2020-10-10 15:07:41+00:00</td>\n",
              "      <td>1314945704947838976</td>\n",
              "      <td>@fcrespot @teofb Pior é que tem. Tem muita gen...</td>\n",
              "      <td>@fcrespot @teofb pior muita gente vive aperfei...</td>\n",
              "      <td>fcrespot  teofb pior muita gente vive aperfei...</td>\n",
              "    </tr>\n",
              "    <tr>\n",
              "      <th>3</th>\n",
              "      <td>2020-10-10 15:05:33+00:00</td>\n",
              "      <td>1314945170748604416</td>\n",
              "      <td>Fala ByLerner, beleza?\\n\\nZarcky na área! 🤘\\n\\...</td>\n",
              "      <td>fala bylerner, beleza? zarcky área! 🤘 trouxe v...</td>\n",
              "      <td>fala bylerner  beleza  zarcky área    trouxe v...</td>\n",
              "    </tr>\n",
              "    <tr>\n",
              "      <th>4</th>\n",
              "      <td>2020-10-10 00:26:42+00:00</td>\n",
              "      <td>1314723999830732800</td>\n",
              "      <td>@iv12345n eu não sei o quanto vc está disposto...</td>\n",
              "      <td>@iv12345n sei quanto vc disposto vender sistem...</td>\n",
              "      <td>iv12345n sei quanto vc disposto vender sistem...</td>\n",
              "    </tr>\n",
              "  </tbody>\n",
              "</table>\n",
              "</div>"
            ],
            "text/plain": [
              "                 created_at  ...                                     cleaned_tweets\n",
              "0 2020-10-10 19:50:58+00:00  ...  próximo modulo estatística ciência dados aaaaa...\n",
              "1 2020-10-10 17:03:11+00:00  ...   ancapball_br vê prática python forte ciência ...\n",
              "2 2020-10-10 15:07:41+00:00  ...   fcrespot  teofb pior muita gente vive aperfei...\n",
              "3 2020-10-10 15:05:33+00:00  ...  fala bylerner  beleza  zarcky área    trouxe v...\n",
              "4 2020-10-10 00:26:42+00:00  ...   iv12345n sei quanto vc disposto vender sistem...\n",
              "\n",
              "[5 rows x 5 columns]"
            ]
          },
          "metadata": {
            "tags": []
          },
          "execution_count": 122
        }
      ]
    },
    {
      "cell_type": "markdown",
      "metadata": {
        "id": "MNGaIbpLD36U"
      },
      "source": [
        "# **Realizar a Contagem das Palavras**"
      ]
    },
    {
      "cell_type": "code",
      "metadata": {
        "id": "YwTZ8GA88L4n"
      },
      "source": [
        "#Importar CountVectorizer \n",
        "\n",
        "from sklearn.feature_extraction.text import CountVectorizer\n"
      ],
      "execution_count": 123,
      "outputs": []
    },
    {
      "cell_type": "code",
      "metadata": {
        "id": "S7H9rB-jKBni"
      },
      "source": [
        "cv = CountVectorizer()\n",
        "count_matrix = cv.fit_transform(pb.cleaned_tweets)"
      ],
      "execution_count": 130,
      "outputs": []
    },
    {
      "cell_type": "code",
      "metadata": {
        "id": "0CozJEyNLIRr"
      },
      "source": [
        "cv.get_feature_names()"
      ],
      "execution_count": null,
      "outputs": []
    },
    {
      "cell_type": "code",
      "metadata": {
        "id": "PjwVDa83LPZA"
      },
      "source": [
        "#count_matrix.toarray()"
      ],
      "execution_count": 132,
      "outputs": []
    },
    {
      "cell_type": "code",
      "metadata": {
        "id": "s3G58jElL6dW",
        "outputId": "914e6989-4cb1-40a8-ce0c-e7230f9e5200",
        "colab": {
          "base_uri": "https://localhost:8080/",
          "height": 1000
        }
      },
      "source": [
        "#criar Dataframe\n",
        "\n",
        "word_count = pd.DataFrame(cv.get_feature_names(), columns = ['word'])\n",
        "\n",
        "#Somando e criando uma lista \n",
        "\n",
        "word_count['count'] = count_matrix.sum(axis=0 ).tolist()[0]\n",
        "word_count = word_count.sort_values(\"count\", ascending=False).reset_index(drop = True)\n",
        "\n",
        "\n",
        "word_count[:50]"
      ],
      "execution_count": 133,
      "outputs": [
        {
          "output_type": "execute_result",
          "data": {
            "text/html": [
              "<div>\n",
              "<style scoped>\n",
              "    .dataframe tbody tr th:only-of-type {\n",
              "        vertical-align: middle;\n",
              "    }\n",
              "\n",
              "    .dataframe tbody tr th {\n",
              "        vertical-align: top;\n",
              "    }\n",
              "\n",
              "    .dataframe thead th {\n",
              "        text-align: right;\n",
              "    }\n",
              "</style>\n",
              "<table border=\"1\" class=\"dataframe\">\n",
              "  <thead>\n",
              "    <tr style=\"text-align: right;\">\n",
              "      <th></th>\n",
              "      <th>word</th>\n",
              "      <th>count</th>\n",
              "    </tr>\n",
              "  </thead>\n",
              "  <tbody>\n",
              "    <tr>\n",
              "      <th>0</th>\n",
              "      <td>dados</td>\n",
              "      <td>143</td>\n",
              "    </tr>\n",
              "    <tr>\n",
              "      <th>1</th>\n",
              "      <td>ciência</td>\n",
              "      <td>135</td>\n",
              "    </tr>\n",
              "    <tr>\n",
              "      <th>2</th>\n",
              "      <td>rt</td>\n",
              "      <td>31</td>\n",
              "    </tr>\n",
              "    <tr>\n",
              "      <th>3</th>\n",
              "      <td>curso</td>\n",
              "      <td>18</td>\n",
              "    </tr>\n",
              "    <tr>\n",
              "      <th>4</th>\n",
              "      <td>sobre</td>\n",
              "      <td>15</td>\n",
              "    </tr>\n",
              "    <tr>\n",
              "      <th>5</th>\n",
              "      <td>pra</td>\n",
              "      <td>12</td>\n",
              "    </tr>\n",
              "    <tr>\n",
              "      <th>6</th>\n",
              "      <td>mundo</td>\n",
              "      <td>10</td>\n",
              "    </tr>\n",
              "    <tr>\n",
              "      <th>7</th>\n",
              "      <td>estatística</td>\n",
              "      <td>10</td>\n",
              "    </tr>\n",
              "    <tr>\n",
              "      <th>8</th>\n",
              "      <td>negócios</td>\n",
              "      <td>9</td>\n",
              "    </tr>\n",
              "    <tr>\n",
              "      <th>9</th>\n",
              "      <td>atua</td>\n",
              "      <td>9</td>\n",
              "    </tr>\n",
              "    <tr>\n",
              "      <th>10</th>\n",
              "      <td>ciencia</td>\n",
              "      <td>9</td>\n",
              "    </tr>\n",
              "    <tr>\n",
              "      <th>11</th>\n",
              "      <td>quer</td>\n",
              "      <td>9</td>\n",
              "    </tr>\n",
              "    <tr>\n",
              "      <th>12</th>\n",
              "      <td>online</td>\n",
              "      <td>8</td>\n",
              "    </tr>\n",
              "    <tr>\n",
              "      <th>13</th>\n",
              "      <td>estudar</td>\n",
              "      <td>8</td>\n",
              "    </tr>\n",
              "    <tr>\n",
              "      <th>14</th>\n",
              "      <td>sei</td>\n",
              "      <td>8</td>\n",
              "    </tr>\n",
              "    <tr>\n",
              "      <th>15</th>\n",
              "      <td>hoje</td>\n",
              "      <td>8</td>\n",
              "    </tr>\n",
              "    <tr>\n",
              "      <th>16</th>\n",
              "      <td>pode</td>\n",
              "      <td>7</td>\n",
              "    </tr>\n",
              "    <tr>\n",
              "      <th>17</th>\n",
              "      <td>pq</td>\n",
              "      <td>7</td>\n",
              "    </tr>\n",
              "    <tr>\n",
              "      <th>18</th>\n",
              "      <td>insper</td>\n",
              "      <td>7</td>\n",
              "    </tr>\n",
              "    <tr>\n",
              "      <th>19</th>\n",
              "      <td>análise</td>\n",
              "      <td>7</td>\n",
              "    </tr>\n",
              "    <tr>\n",
              "      <th>20</th>\n",
              "      <td>aqui</td>\n",
              "      <td>7</td>\n",
              "    </tr>\n",
              "    <tr>\n",
              "      <th>21</th>\n",
              "      <td>gente</td>\n",
              "      <td>6</td>\n",
              "    </tr>\n",
              "    <tr>\n",
              "      <th>22</th>\n",
              "      <td>engenharia</td>\n",
              "      <td>6</td>\n",
              "    </tr>\n",
              "    <tr>\n",
              "      <th>23</th>\n",
              "      <td>econ</td>\n",
              "      <td>6</td>\n",
              "    </tr>\n",
              "    <tr>\n",
              "      <th>24</th>\n",
              "      <td>talks</td>\n",
              "      <td>6</td>\n",
              "    </tr>\n",
              "    <tr>\n",
              "      <th>25</th>\n",
              "      <td>política</td>\n",
              "      <td>6</td>\n",
              "    </tr>\n",
              "    <tr>\n",
              "      <th>26</th>\n",
              "      <td>master</td>\n",
              "      <td>6</td>\n",
              "    </tr>\n",
              "    <tr>\n",
              "      <th>27</th>\n",
              "      <td>p_dromenezes</td>\n",
              "      <td>6</td>\n",
              "    </tr>\n",
              "    <tr>\n",
              "      <th>28</th>\n",
              "      <td>fgv</td>\n",
              "      <td>5</td>\n",
              "    </tr>\n",
              "    <tr>\n",
              "      <th>29</th>\n",
              "      <td>usar</td>\n",
              "      <td>5</td>\n",
              "    </tr>\n",
              "    <tr>\n",
              "      <th>30</th>\n",
              "      <td>computação</td>\n",
              "      <td>5</td>\n",
              "    </tr>\n",
              "    <tr>\n",
              "      <th>31</th>\n",
              "      <td>aula</td>\n",
              "      <td>5</td>\n",
              "    </tr>\n",
              "    <tr>\n",
              "      <th>32</th>\n",
              "      <td>então</td>\n",
              "      <td>5</td>\n",
              "    </tr>\n",
              "    <tr>\n",
              "      <th>33</th>\n",
              "      <td>ia</td>\n",
              "      <td>5</td>\n",
              "    </tr>\n",
              "    <tr>\n",
              "      <th>34</th>\n",
              "      <td>agora</td>\n",
              "      <td>5</td>\n",
              "    </tr>\n",
              "    <tr>\n",
              "      <th>35</th>\n",
              "      <td>segunda</td>\n",
              "      <td>5</td>\n",
              "    </tr>\n",
              "    <tr>\n",
              "      <th>36</th>\n",
              "      <td>cara</td>\n",
              "      <td>5</td>\n",
              "    </tr>\n",
              "    <tr>\n",
              "      <th>37</th>\n",
              "      <td>inscrições</td>\n",
              "      <td>5</td>\n",
              "    </tr>\n",
              "    <tr>\n",
              "      <th>38</th>\n",
              "      <td>vi</td>\n",
              "      <td>5</td>\n",
              "    </tr>\n",
              "    <tr>\n",
              "      <th>39</th>\n",
              "      <td>sempre</td>\n",
              "      <td>5</td>\n",
              "    </tr>\n",
              "    <tr>\n",
              "      <th>40</th>\n",
              "      <td>muita</td>\n",
              "      <td>5</td>\n",
              "    </tr>\n",
              "    <tr>\n",
              "      <th>41</th>\n",
              "      <td>matemática</td>\n",
              "      <td>5</td>\n",
              "    </tr>\n",
              "    <tr>\n",
              "      <th>42</th>\n",
              "      <td>python</td>\n",
              "      <td>5</td>\n",
              "    </tr>\n",
              "    <tr>\n",
              "      <th>43</th>\n",
              "      <td>módulo</td>\n",
              "      <td>5</td>\n",
              "    </tr>\n",
              "    <tr>\n",
              "      <th>44</th>\n",
              "      <td>fazer</td>\n",
              "      <td>5</td>\n",
              "    </tr>\n",
              "    <tr>\n",
              "      <th>45</th>\n",
              "      <td>reprogramabr</td>\n",
              "      <td>5</td>\n",
              "    </tr>\n",
              "    <tr>\n",
              "      <th>46</th>\n",
              "      <td>pessoal</td>\n",
              "      <td>4</td>\n",
              "    </tr>\n",
              "    <tr>\n",
              "      <th>47</th>\n",
              "      <td>oferecem</td>\n",
              "      <td>4</td>\n",
              "    </tr>\n",
              "    <tr>\n",
              "      <th>48</th>\n",
              "      <td>live</td>\n",
              "      <td>4</td>\n",
              "    </tr>\n",
              "    <tr>\n",
              "      <th>49</th>\n",
              "      <td>oliveira</td>\n",
              "      <td>4</td>\n",
              "    </tr>\n",
              "  </tbody>\n",
              "</table>\n",
              "</div>"
            ],
            "text/plain": [
              "            word  count\n",
              "0          dados    143\n",
              "1        ciência    135\n",
              "2             rt     31\n",
              "3          curso     18\n",
              "4          sobre     15\n",
              "5            pra     12\n",
              "6          mundo     10\n",
              "7    estatística     10\n",
              "8       negócios      9\n",
              "9           atua      9\n",
              "10       ciencia      9\n",
              "11          quer      9\n",
              "12        online      8\n",
              "13       estudar      8\n",
              "14           sei      8\n",
              "15          hoje      8\n",
              "16          pode      7\n",
              "17            pq      7\n",
              "18        insper      7\n",
              "19       análise      7\n",
              "20          aqui      7\n",
              "21         gente      6\n",
              "22    engenharia      6\n",
              "23          econ      6\n",
              "24         talks      6\n",
              "25      política      6\n",
              "26        master      6\n",
              "27  p_dromenezes      6\n",
              "28           fgv      5\n",
              "29          usar      5\n",
              "30    computação      5\n",
              "31          aula      5\n",
              "32         então      5\n",
              "33            ia      5\n",
              "34         agora      5\n",
              "35       segunda      5\n",
              "36          cara      5\n",
              "37    inscrições      5\n",
              "38            vi      5\n",
              "39        sempre      5\n",
              "40         muita      5\n",
              "41    matemática      5\n",
              "42        python      5\n",
              "43        módulo      5\n",
              "44         fazer      5\n",
              "45  reprogramabr      5\n",
              "46       pessoal      4\n",
              "47      oferecem      4\n",
              "48          live      4\n",
              "49      oliveira      4"
            ]
          },
          "metadata": {
            "tags": []
          },
          "execution_count": 133
        }
      ]
    }
  ]
}